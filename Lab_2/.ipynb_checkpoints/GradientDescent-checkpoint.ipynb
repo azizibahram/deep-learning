{
 "cells": [
  {
   "cell_type": "code",
   "execution_count": 1,
   "id": "c2dd5d4f",
   "metadata": {},
   "outputs": [],
   "source": [
    "from typing import Callable\n",
    "\n",
    "import numpy as np\n",
    "\n",
    "from abc import abstractmethod, ABC\n",
    "\n",
    "__all__ = [\"GradientDescentBase\"]\n",
    "\n",
    "\n",
    "class GradientDescentBase(ABC):\n",
    "    def __init__(\n",
    "        self,\n",
    "        w_start: np.ndarray,\n",
    "        learning_rate: Callable,\n",
    "        regularization: Callable,\n",
    "        alpha: float,\n",
    "    ):\n",
    "        self._learning_rate = learning_rate\n",
    "        self._w = w_start\n",
    "        self._regularization = regularization\n",
    "        self._alpha = alpha\n",
    "\n",
    "    def get_weights(self):\n",
    "        return self._w\n",
    "\n",
    "    def set_weights(self, w: np.ndarray):\n",
    "        self._w = w\n",
    "\n",
    "    def update_weights(\n",
    "        self, X: np.ndarray, y: np.ndarray, iteration: int\n",
    "    ) -> np.ndarray:\n",
    "        self._w = (\n",
    "            self._w\n",
    "            - self._learning_rate(iteration) * self._calculate_gradient(X, y, self._w)\n",
    "            + self._alpha * self._regularization(self._w)\n",
    "        )\n",
    "        return self._w\n",
    "\n",
    "    @abstractmethod\n",
    "    def _calculate_gradient(self, X: np.ndarray, y: np.ndarray, w: np.ndarray):\n",
    "        pass"
   ]
  },
  {
   "cell_type": "code",
   "execution_count": null,
   "id": "6b937cfe",
   "metadata": {},
   "outputs": [],
   "source": []
  }
 ],
 "metadata": {
  "kernelspec": {
   "display_name": "Python 3 (ipykernel)",
   "language": "python",
   "name": "python3"
  },
  "language_info": {
   "codemirror_mode": {
    "name": "ipython",
    "version": 3
   },
   "file_extension": ".py",
   "mimetype": "text/x-python",
   "name": "python",
   "nbconvert_exporter": "python",
   "pygments_lexer": "ipython3",
   "version": "3.9.12"
  }
 },
 "nbformat": 4,
 "nbformat_minor": 5
}
